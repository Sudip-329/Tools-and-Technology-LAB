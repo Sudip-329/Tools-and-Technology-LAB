{
 "cells": [
  {
   "cell_type": "markdown",
   "id": "de4a5beb",
   "metadata": {},
   "source": [
    "# T & T LAB (06)\n",
    "## Name : Sudip Chakrabarty\n",
    "## Roll : 21053329\n",
    "## Sec : CSE-34\n",
    "## Date : 16.03.24"
   ]
  },
  {
   "cell_type": "code",
   "execution_count": 1,
   "id": "b4baed6f",
   "metadata": {},
   "outputs": [],
   "source": [
    "import pandas as pd\n",
    "import numpy as np\n",
    "import matplotlib.pyplot as plt\n",
    "from sklearn.datasets import load_iris\n",
    "from sklearn.model_selection import train_test_split\n",
    "from sklearn.preprocessing import StandardScaler\n",
    "from sklearn.tree import DecisionTreeClassifier\n",
    "from sklearn.ensemble import RandomForestClassifier\n",
    "from sklearn.svm import SVC\n",
    "from sklearn.metrics import classification_report, accuracy_score"
   ]
  },
  {
   "cell_type": "code",
   "execution_count": 2,
   "id": "48a7a6e0",
   "metadata": {},
   "outputs": [],
   "source": [
    "iris = load_iris()"
   ]
  },
  {
   "cell_type": "code",
   "execution_count": 3,
   "id": "f0fe6936",
   "metadata": {},
   "outputs": [
    {
     "name": "stdout",
     "output_type": "stream",
     "text": [
      "Features names :  ['sepal length (cm)', 'sepal width (cm)', 'petal length (cm)', 'petal width (cm)']\n",
      "Target names :  ['setosa' 'versicolor' 'virginica']\n",
      "Number of Samples :  150\n",
      "Features matrix shape :  (150, 4)\n"
     ]
    }
   ],
   "source": [
    "print(\"Features names : \", iris.feature_names)\n",
    "print(\"Target names : \",iris.target_names)\n",
    "print(\"Number of Samples : \",len(iris.data))\n",
    "print(\"Features matrix shape : \",iris.data.shape)"
   ]
  },
  {
   "cell_type": "code",
   "execution_count": 4,
   "id": "2c3879a5",
   "metadata": {},
   "outputs": [
    {
     "data": {
      "text/plain": [
       "0"
      ]
     },
     "execution_count": 4,
     "metadata": {},
     "output_type": "execute_result"
    }
   ],
   "source": [
    "df = pd.DataFrame(data=iris.data, columns=iris.feature_names)\n",
    "missing_values = df.isnull().sum().sum()\n",
    "missing_values"
   ]
  },
  {
   "cell_type": "code",
   "execution_count": 5,
   "id": "cedf59b4",
   "metadata": {},
   "outputs": [],
   "source": [
    "X_test,X_train,y_test,y_train = train_test_split(iris.data, iris.target, test_size=0.2, random_state=42)"
   ]
  },
  {
   "cell_type": "code",
   "execution_count": 6,
   "id": "8447faba",
   "metadata": {},
   "outputs": [
    {
     "name": "stdout",
     "output_type": "stream",
     "text": [
      "Training set shape - Features: (30, 4) Labels: (30,)\n",
      "Testing set shape - Features: (120, 4) Labels: (120,)\n"
     ]
    }
   ],
   "source": [
    "print(\"Training set shape - Features:\", X_train.shape, \"Labels:\", y_train.shape)\n",
    "print(\"Testing set shape - Features:\", X_test.shape, \"Labels:\", y_test.shape)"
   ]
  },
  {
   "cell_type": "code",
   "execution_count": 7,
   "id": "d2920fe2",
   "metadata": {},
   "outputs": [
    {
     "data": {
      "text/plain": [
       "array([[6.1, 2.8, 4.7, 1.2],\n",
       "       [5.7, 3.8, 1.7, 0.3],\n",
       "       [7.7, 2.6, 6.9, 2.3],\n",
       "       [6. , 2.9, 4.5, 1.5],\n",
       "       [6.8, 2.8, 4.8, 1.4],\n",
       "       [5.4, 3.4, 1.5, 0.4],\n",
       "       [5.6, 2.9, 3.6, 1.3],\n",
       "       [6.9, 3.1, 5.1, 2.3],\n",
       "       [6.2, 2.2, 4.5, 1.5],\n",
       "       [5.8, 2.7, 3.9, 1.2],\n",
       "       [6.5, 3.2, 5.1, 2. ],\n",
       "       [4.8, 3. , 1.4, 0.1],\n",
       "       [5.5, 3.5, 1.3, 0.2],\n",
       "       [4.9, 3.1, 1.5, 0.1],\n",
       "       [5.1, 3.8, 1.5, 0.3],\n",
       "       [6.3, 3.3, 4.7, 1.6],\n",
       "       [6.5, 3. , 5.8, 2.2],\n",
       "       [5.6, 2.5, 3.9, 1.1],\n",
       "       [5.7, 2.8, 4.5, 1.3],\n",
       "       [6.4, 2.8, 5.6, 2.2],\n",
       "       [4.7, 3.2, 1.6, 0.2],\n",
       "       [6.1, 3. , 4.9, 1.8],\n",
       "       [5. , 3.4, 1.6, 0.4],\n",
       "       [6.4, 2.8, 5.6, 2.1],\n",
       "       [7.9, 3.8, 6.4, 2. ],\n",
       "       [6.7, 3. , 5.2, 2.3],\n",
       "       [6.7, 2.5, 5.8, 1.8],\n",
       "       [6.8, 3.2, 5.9, 2.3],\n",
       "       [4.8, 3. , 1.4, 0.3],\n",
       "       [4.8, 3.1, 1.6, 0.2]])"
      ]
     },
     "execution_count": 7,
     "metadata": {},
     "output_type": "execute_result"
    }
   ],
   "source": [
    "X_train"
   ]
  },
  {
   "cell_type": "code",
   "execution_count": 8,
   "id": "4b0a778c",
   "metadata": {},
   "outputs": [
    {
     "name": "stdout",
     "output_type": "stream",
     "text": [
      "Decision Tree Classifier Accuracy: 0.95\n",
      "Classification Report:\n",
      "              precision    recall  f1-score   support\n",
      "\n",
      "      setosa       1.00      1.00      1.00        40\n",
      "  versicolor       0.91      0.95      0.93        41\n",
      "   virginica       0.95      0.90      0.92        39\n",
      "\n",
      "    accuracy                           0.95       120\n",
      "   macro avg       0.95      0.95      0.95       120\n",
      "weighted avg       0.95      0.95      0.95       120\n",
      "\n"
     ]
    }
   ],
   "source": [
    "#Decision tree\n",
    "dt=DecisionTreeClassifier()\n",
    "dt.fit(X_train, y_train)\n",
    "dt_y_pred = dt.predict(X_test)\n",
    "dt_accuracy = accuracy_score(y_test,dt_y_pred)\n",
    "print(\"Decision Tree Classifier Accuracy:\", dt_accuracy)\n",
    "print(\"Classification Report:\")\n",
    "print(classification_report(y_test, dt_y_pred, target_names=iris.target_names))"
   ]
  },
  {
   "cell_type": "code",
   "execution_count": 9,
   "id": "272b3595",
   "metadata": {},
   "outputs": [
    {
     "name": "stdout",
     "output_type": "stream",
     "text": [
      "\n",
      "Random Forest Classifier Accuracy: 0.9666666666666667\n",
      "Classification Report:\n",
      "              precision    recall  f1-score   support\n",
      "\n",
      "      setosa       1.00      1.00      1.00        40\n",
      "  versicolor       0.95      0.95      0.95        41\n",
      "   virginica       0.95      0.95      0.95        39\n",
      "\n",
      "    accuracy                           0.97       120\n",
      "   macro avg       0.97      0.97      0.97       120\n",
      "weighted avg       0.97      0.97      0.97       120\n",
      "\n"
     ]
    }
   ],
   "source": [
    "# Random Forest Classifier\n",
    "rf_classifier = RandomForestClassifier()\n",
    "rf_classifier.fit(X_train, y_train)\n",
    "rf_y_pred = rf_classifier.predict(X_test)\n",
    "rf_accuracy = accuracy_score(y_test, rf_y_pred)\n",
    "print(\"\\nRandom Forest Classifier Accuracy:\", rf_accuracy)\n",
    "print(\"Classification Report:\")\n",
    "print(classification_report(y_test, rf_y_pred, target_names=iris.target_names))"
   ]
  },
  {
   "cell_type": "code",
   "execution_count": 10,
   "id": "9cf965e8",
   "metadata": {},
   "outputs": [
    {
     "name": "stdout",
     "output_type": "stream",
     "text": [
      "\n",
      "Support Vector Machine (SVM) Classifier Accuracy: 0.9333333333333333\n",
      "Classification Report:\n",
      "              precision    recall  f1-score   support\n",
      "\n",
      "      setosa       1.00      1.00      1.00        40\n",
      "  versicolor       0.95      0.85      0.90        41\n",
      "   virginica       0.86      0.95      0.90        39\n",
      "\n",
      "    accuracy                           0.93       120\n",
      "   macro avg       0.94      0.93      0.93       120\n",
      "weighted avg       0.94      0.93      0.93       120\n",
      "\n"
     ]
    }
   ],
   "source": [
    "# Support Vector Machine (SVM) Classifier\n",
    "svm_classifier = SVC()\n",
    "svm_classifier.fit(X_train, y_train)\n",
    "svm_y_pred = svm_classifier.predict(X_test)\n",
    "svm_accuracy = accuracy_score(y_test, svm_y_pred)\n",
    "print(\"\\nSupport Vector Machine (SVM) Classifier Accuracy:\", svm_accuracy)\n",
    "print(\"Classification Report:\")\n",
    "print(classification_report(y_test, svm_y_pred, target_names=iris.target_names))"
   ]
  },
  {
   "cell_type": "code",
   "execution_count": 11,
   "id": "d7ef153e",
   "metadata": {},
   "outputs": [],
   "source": [
    "results = {}\n",
    "results[0] = dt_accuracy\n",
    "results[1] = rf_accuracy\n",
    "results[2] = svm_accuracy"
   ]
  },
  {
   "cell_type": "code",
   "execution_count": 12,
   "id": "41038e04",
   "metadata": {},
   "outputs": [
    {
     "data": {
      "image/png": "[encoded data removed]",
      "text/plain": [
       "<Figure size 1000x600 with 1 Axes>"
      ]
     },
     "metadata": {},
     "output_type": "display_data"
    }
   ],
   "source": [
    "# Plotting the results\n",
    "plt.figure(figsize=(10, 6))\n",
    "plt.bar(np.arange(len(results)), list(results.values()), align='center', color=['pink', 'green', 'red'])\n",
    "plt.xticks(np.arange(len(results)), list(results.keys()))\n",
    "plt.xlabel('Classifier')\n",
    "plt.ylabel('Accuracy')\n",
    "plt.title('Performance of Different Classifiers')\n",
    "plt.ylim([0, 1])\n",
    "plt.show()"
   ]
  },
  {
   "cell_type": "code",
   "execution_count": null,
   "id": "74f876c7",
   "metadata": {},
   "outputs": [],
   "source": []
  }
 ],
 "metadata": {
  "kernelspec": {
   "display_name": "Python 3 (ipykernel)",
   "language": "python",
   "name": "python3"
  },
  "language_info": {
   "codemirror_mode": {
    "name": "ipython",
    "version": 3
   },
   "file_extension": ".py",
   "mimetype": "text/x-python",
   "name": "python",
   "nbconvert_exporter": "python",
   "pygments_lexer": "ipython3",
   "version": "3.11.5"
  }
 },
 "nbformat": 4,
 "nbformat_minor": 5
}
