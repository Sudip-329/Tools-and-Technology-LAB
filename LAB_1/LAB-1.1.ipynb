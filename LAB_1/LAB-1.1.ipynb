{
 "cells": [
  {
   "cell_type": "markdown",
   "id": "41dba9a2",
   "metadata": {},
   "source": [
    "# Name : Sudip chakrabarty   \n",
    "# Roll : 21053329\n",
    "# Section : CSE-34\n",
    "# Date : 20.01.2024"
   ]
  },
  {
   "cell_type": "markdown",
   "id": "4046e9e8",
   "metadata": {},
   "source": [
    "# 1 . Simple Calculator"
   ]
  },
  {
   "cell_type": "code",
   "execution_count": 2,
   "id": "eade1c8b",
   "metadata": {},
   "outputs": [
    {
     "name": "stdout",
     "output_type": "stream",
     "text": [
      "Enter the first number: 10\n",
      "Enter the operator (+, -, *, /): +\n",
      "Enter the second number: 3\n",
      "The result of 10.0 + 3.0 is: 13.0\n"
     ]
    }
   ],
   "source": [
    "def add(x, y):\n",
    "    return x + y\n",
    "\n",
    "def subtract(x, y):\n",
    "    return x - y\n",
    "\n",
    "def multiply(x, y):\n",
    "    return x * y\n",
    "\n",
    "def divide(x, y):\n",
    "    if y != 0:\n",
    "        return x / y\n",
    "    else:\n",
    "        return \"Error: Division by zero\"\n",
    "\n",
    "num1 = float(input(\"Enter the first number: \"))\n",
    "operator = input(\"Enter the operator (+, -, *, /): \")\n",
    "num2 = float(input(\"Enter the second number: \"))\n",
    "\n",
    "if operator == '+':\n",
    "    result = add(num1, num2)\n",
    "elif operator == '-':\n",
    "    result = subtract(num1, num2)\n",
    "elif operator == '*':\n",
    "    result = multiply(num1, num2)\n",
    "elif operator == '/':\n",
    "    result = divide(num1, num2)\n",
    "else:\n",
    "    result = \"Error: Invalid operator\"\n",
    "\n",
    "print(f\"The result of {num1} {operator} {num2} is: {result}\")\n"
   ]
  },
  {
   "cell_type": "code",
   "execution_count": null,
   "id": "e9235aa6",
   "metadata": {},
   "outputs": [],
   "source": []
  },
  {
   "cell_type": "markdown",
   "id": "3f1b2fa7",
   "metadata": {},
   "source": [
    "# 2. Area of a Rectangle"
   ]
  },
  {
   "cell_type": "code",
   "execution_count": 4,
   "id": "790b9031",
   "metadata": {},
   "outputs": [
    {
     "name": "stdout",
     "output_type": "stream",
     "text": [
      "Enter 1st Height :10\n",
      "Enter 2nd Wide :34\n",
      "340\n",
      "Enter Height :3\n",
      "Enter Wide :2\n",
      "6.0\n"
     ]
    }
   ],
   "source": [
    "h = int(input(\"Enter 1st Height :\"))\n",
    "b = int(input(\"Enter 2nd Wide :\"))\n",
    "print(h*b)\n",
    "h = int(input(\"Enter Height :\"))\n",
    "b = float(input(\"Enter Wide :\"))\n",
    "print(h*b)"
   ]
  },
  {
   "cell_type": "code",
   "execution_count": null,
   "id": "747b4217",
   "metadata": {},
   "outputs": [],
   "source": []
  },
  {
   "cell_type": "markdown",
   "id": "dc3f3d50",
   "metadata": {},
   "source": [
    "# 3.Celcious to Fahrenheit"
   ]
  },
  {
   "cell_type": "code",
   "execution_count": 6,
   "id": "7575cb30",
   "metadata": {},
   "outputs": [
    {
     "name": "stdout",
     "output_type": "stream",
     "text": [
      "Enter temperature in Celsius: 45\n",
      "45.0 degrees Celsius is equal to 113.0 degrees Fahrenheit.\n"
     ]
    }
   ],
   "source": [
    "celsius = float(input(\"Enter temperature in Celsius: \"))\n",
    "fahrenheit=((celsius * 9/5) + 32)\n",
    "print(f\"{celsius} degrees Celsius is equal to {fahrenheit} degrees Fahrenheit.\")"
   ]
  },
  {
   "cell_type": "code",
   "execution_count": null,
   "id": "8bd49e41",
   "metadata": {},
   "outputs": [],
   "source": []
  },
  {
   "cell_type": "markdown",
   "id": "61a50954",
   "metadata": {},
   "source": [
    "# 4.Quadratic Equation Solver "
   ]
  },
  {
   "cell_type": "code",
   "execution_count": 8,
   "id": "660cef4c",
   "metadata": {},
   "outputs": [
    {
     "name": "stdout",
     "output_type": "stream",
     "text": [
      "Enter the coefficient a: 4\n",
      "Enter the coefficient b: 7\n",
      "Enter the coefficient c: 2\n",
      "The roots of the quadratic equation are: ((-0.3596117967977924+0j), (-1.3903882032022077+0j))\n"
     ]
    }
   ],
   "source": [
    "import cmath\n",
    "\n",
    "def solve_quadratic(a, b, c):\n",
    "    sqr = cmath.sqrt(b**2 - 4*a*c)\n",
    "\n",
    "    root1 = (-b + sqr) / (2 * a)\n",
    "    root2 = (-b - sqr) / (2 * a)\n",
    "\n",
    "    return root1, root2\n",
    "\n",
    "a = float(input(\"Enter the coefficient a: \"))\n",
    "b = float(input(\"Enter the coefficient b: \"))\n",
    "c = float(input(\"Enter the coefficient c: \"))\n",
    "\n",
    "roots = solve_quadratic(a, b, c)\n",
    "print(f\"The roots of the quadratic equation are: {roots}\")"
   ]
  },
  {
   "cell_type": "code",
   "execution_count": null,
   "id": "4bd21881",
   "metadata": {},
   "outputs": [],
   "source": []
  },
  {
   "cell_type": "markdown",
   "id": "84f69157",
   "metadata": {},
   "source": [
    "# 5.Even or Odd"
   ]
  },
  {
   "cell_type": "code",
   "execution_count": 10,
   "id": "135e600e",
   "metadata": {},
   "outputs": [
    {
     "name": "stdout",
     "output_type": "stream",
     "text": [
      "Enter  a number :5\n",
      "ODD\n"
     ]
    }
   ],
   "source": [
    "num = int(input(\"Enter  a number :\"))\n",
    "if num%2==0 :\n",
    "    print(\"Even\")\n",
    "else:\n",
    "    print(\"ODD\")"
   ]
  },
  {
   "cell_type": "code",
   "execution_count": null,
   "id": "20e7f841",
   "metadata": {},
   "outputs": [],
   "source": []
  },
  {
   "cell_type": "markdown",
   "id": "8245ff4f",
   "metadata": {},
   "source": [
    "# 6.Simple Interest Calculator"
   ]
  },
  {
   "cell_type": "code",
   "execution_count": 12,
   "id": "d0519c90",
   "metadata": {},
   "outputs": [
    {
     "name": "stdout",
     "output_type": "stream",
     "text": [
      "Enter the principal amount: 4000\n",
      "Enter the annual interest rate (in percentage): 20\n",
      "Enter the time period (in years): 4\n",
      "3200.0\n"
     ]
    }
   ],
   "source": [
    "principal = float(input(\"Enter the principal amount: \"))\n",
    "rate = float(input(\"Enter the annual interest rate (in percentage): \"))\n",
    "time = float(input(\"Enter the time period (in years): \"))\n",
    "simple_interest = (principal * rate * time) / 100\n",
    "print(simple_interest)"
   ]
  },
  {
   "cell_type": "code",
   "execution_count": null,
   "id": "2ab788ce",
   "metadata": {},
   "outputs": [],
   "source": []
  },
  {
   "cell_type": "markdown",
   "id": "269d1b80",
   "metadata": {},
   "source": [
    "# 7.Check Leap Year "
   ]
  },
  {
   "cell_type": "code",
   "execution_count": 14,
   "id": "d3a66bd2",
   "metadata": {},
   "outputs": [
    {
     "name": "stdout",
     "output_type": "stream",
     "text": [
      "Enter a year: 2012\n",
      "2012 is a leap year.\n",
      "Enter a year: 2024\n",
      "2024 is a leap year.\n"
     ]
    }
   ],
   "source": [
    "def is_leap_year(year):\n",
    "    if (year % 4 == 0 and year % 100 != 0) or (year % 400 == 0):\n",
    "        return True\n",
    "    else:\n",
    "        return False\n",
    "\n",
    "year = int(input(\"Enter a year: \"))\n",
    "if is_leap_year(year):\n",
    "    print(f\"{year} is a leap year.\")\n",
    "else:\n",
    "    print(f\"{year} is not a leap year.\")\n",
    "\n",
    "year = int(input(\"Enter a year: \"))\n",
    "if is_leap_year(year):\n",
    "    print(f\"{year} is a leap year.\")\n",
    "else:\n",
    "    print(f\"{year} is not a leap year.\")\n"
   ]
  },
  {
   "cell_type": "code",
   "execution_count": null,
   "id": "9df4a4c5",
   "metadata": {},
   "outputs": [],
   "source": []
  },
  {
   "cell_type": "markdown",
   "id": "929d18f6",
   "metadata": {},
   "source": [
    "# 8.String Concatenation"
   ]
  },
  {
   "cell_type": "code",
   "execution_count": 16,
   "id": "f4094096",
   "metadata": {},
   "outputs": [
    {
     "name": "stdout",
     "output_type": "stream",
     "text": [
      "Enter 1st string :ss\n",
      "Enter 2nd string :ss\n",
      "ss ss\n"
     ]
    }
   ],
   "source": [
    "a = input(\"Enter 1st string :\")\n",
    "b = input(\"Enter 2nd string :\")\n",
    "print(a+\" \"+b)"
   ]
  },
  {
   "cell_type": "code",
   "execution_count": null,
   "id": "8c948943",
   "metadata": {},
   "outputs": [],
   "source": []
  },
  {
   "cell_type": "markdown",
   "id": "86850dd4",
   "metadata": {},
   "source": [
    "# 9.Find Maximum among three numbers"
   ]
  },
  {
   "cell_type": "code",
   "execution_count": 18,
   "id": "3bfa35d8",
   "metadata": {},
   "outputs": [
    {
     "name": "stdout",
     "output_type": "stream",
     "text": [
      "Enter the first number: 45\n",
      "Enter the second number: 3\n",
      "Enter the third number: 8\n",
      "The maximum number among 45.0, 3.0, and 8.0 is: 45.0\n"
     ]
    }
   ],
   "source": [
    "def find_maximum(num1, num2, num3):\n",
    "    return max(num1, num2, num3)\n",
    "\n",
    "num1 = float(input(\"Enter the first number: \"))\n",
    "num2 = float(input(\"Enter the second number: \"))\n",
    "num3 = float(input(\"Enter the third number: \"))\n",
    "\n",
    "maximum_number = find_maximum(num1, num2, num3)\n",
    "\n",
    "print(f\"The maximum number among {num1}, {num2}, and {num3} is: {maximum_number}\")"
   ]
  },
  {
   "cell_type": "code",
   "execution_count": null,
   "id": "de275ab7",
   "metadata": {},
   "outputs": [],
   "source": []
  },
  {
   "cell_type": "markdown",
   "id": "4cca3323",
   "metadata": {},
   "source": [
    "# 10.Factorial Calculator"
   ]
  },
  {
   "cell_type": "code",
   "execution_count": 20,
   "id": "69c949a4",
   "metadata": {},
   "outputs": [
    {
     "name": "stdout",
     "output_type": "stream",
     "text": [
      "Enter any number : 5\n",
      "The factorial of 5 is: 120\n"
     ]
    }
   ],
   "source": [
    "def factorial(n):\n",
    "    if n == 0 or n == 1:\n",
    "        return 1\n",
    "    else:\n",
    "        return n * factorial(n - 1)\n",
    "\n",
    "\n",
    "number = int(input(\"Enter any number : \"))\n",
    "result = factorial(number)\n",
    "\n",
    "print(f\"The factorial of {number} is: {result}\")"
   ]
  },
  {
   "cell_type": "code",
   "execution_count": null,
   "id": "d44991e5",
   "metadata": {},
   "outputs": [],
   "source": []
  },
  {
   "cell_type": "code",
   "execution_count": null,
   "id": "0785d90f",
   "metadata": {},
   "outputs": [],
   "source": []
  },
  {
   "cell_type": "code",
   "execution_count": null,
   "id": "ae7d49a3",
   "metadata": {},
   "outputs": [],
   "source": [
    "\n"
   ]
  },
  {
   "cell_type": "code",
   "execution_count": null,
   "id": "e3a8ae50",
   "metadata": {},
   "outputs": [],
   "source": []
  },
  {
   "cell_type": "code",
   "execution_count": null,
   "id": "1d72094d",
   "metadata": {},
   "outputs": [],
   "source": []
  }
 ],
 "metadata": {
  "kernelspec": {
   "display_name": "Python 3 (ipykernel)",
   "language": "python",
   "name": "python3"
  },
  "language_info": {
   "codemirror_mode": {
    "name": "ipython",
    "version": 3
   },
   "file_extension": ".py",
   "mimetype": "text/x-python",
   "name": "python",
   "nbconvert_exporter": "python",
   "pygments_lexer": "ipython3",
   "version": "3.11.5"
  }
 },
 "nbformat": 4,
 "nbformat_minor": 5
}
