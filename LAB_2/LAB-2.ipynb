{
 "cells": [
  {
   "cell_type": "markdown",
   "id": "8f367123",
   "metadata": {},
   "source": [
    "#                                    T&T LAB- 02\n",
    "# Name : Sudip Chakrabarty\n",
    "# Roll : 21053329\n",
    "# Sec : CSE-34"
   ]
  },
  {
   "cell_type": "markdown",
   "id": "8788d889",
   "metadata": {},
   "source": [
    "# Experiment-7: Create a list of numbers and perform various operations such as adding elements, removing elements, and accessing elements by index. "
   ]
  },
  {
   "cell_type": "code",
   "execution_count": 1,
   "id": "75f742f8",
   "metadata": {},
   "outputs": [],
   "source": [
    "L1 = [\"CC\",\"CD\",\"ML\",\"DA\",\"T&T\"]\n",
    "L2 = [1,2,3,4,5,6]\n",
    "L3 = [\"T&T\", 8.00, \"AM\", 11, \"AM\"]"
   ]
  },
  {
   "cell_type": "code",
   "execution_count": 2,
   "id": "3f8ccca5",
   "metadata": {},
   "outputs": [
    {
     "name": "stdout",
     "output_type": "stream",
     "text": [
      "5\n",
      "6\n",
      "5\n"
     ]
    }
   ],
   "source": [
    "print(len(L1))\n",
    "print(len(L2))\n",
    "print(len(L3))"
   ]
  },
  {
   "cell_type": "code",
   "execution_count": 3,
   "id": "98ae10a0",
   "metadata": {},
   "outputs": [
    {
     "name": "stdout",
     "output_type": "stream",
     "text": [
      "['CC', 'CD', 'ML', 'DA', 'T&T', 'Open_Elective']\n",
      "[1, 2, 3, 4, 5, 6, 7]\n"
     ]
    }
   ],
   "source": [
    "#Add\n",
    "L1.append(\"Open_Elective\")\n",
    "print(L1)\n",
    "L2.append(7)\n",
    "print(L2)"
   ]
  },
  {
   "cell_type": "code",
   "execution_count": 4,
   "id": "a9ac85c3",
   "metadata": {},
   "outputs": [
    {
     "name": "stdout",
     "output_type": "stream",
     "text": [
      "['T&T', 8.0, 'AM', 11, 'AM', 'CC', 3.0, 'PM', 'SPM', 4.0, 'PM']\n"
     ]
    }
   ],
   "source": [
    "L3.extend([\"CC\",3.00,\"PM\", \"SPM\", 4.00, \"PM\"])\n",
    "print(L3)"
   ]
  },
  {
   "cell_type": "code",
   "execution_count": 5,
   "id": "14cf7030",
   "metadata": {},
   "outputs": [
    {
     "name": "stdout",
     "output_type": "stream",
     "text": [
      "['6th Semester Subjects', 'CC', 'CD', 'ML', 'DA', 'T&T', 'Open_Elective']\n"
     ]
    }
   ],
   "source": [
    "#first argument specifies the position,second argument specifies the element to be inserted.\n",
    "L1.insert(0,\"6th Semester Subjects\")\n",
    "print(L1)"
   ]
  },
  {
   "cell_type": "code",
   "execution_count": 6,
   "id": "d8f7f319",
   "metadata": {},
   "outputs": [
    {
     "name": "stdout",
     "output_type": "stream",
     "text": [
      "['6th Semester Subjects', 'CC', 'CD', 'ML', 'DA', 'T&T', 'Open_Elective', 'Test Remove']\n",
      "['6th Semester Subjects', 'CC', 'CD', 'ML', 'DA', 'T&T', 'Open_Elective']\n"
     ]
    }
   ],
   "source": [
    "#Remove\n",
    "L1.append(\"Test Remove\")\n",
    "print(L1)\n",
    "L1.remove(\"Test Remove\")\n",
    "print(L1)"
   ]
  },
  {
   "cell_type": "code",
   "execution_count": 7,
   "id": "7746845d",
   "metadata": {},
   "outputs": [
    {
     "name": "stdout",
     "output_type": "stream",
     "text": [
      "[1, 2, 3, 4]\n",
      "[3, 4, 5, 6, 7]\n",
      "[3, 4]\n",
      "[1, 2, 3, 4, 5, 6, 7]\n"
     ]
    }
   ],
   "source": [
    "#Accessing elements\n",
    "print(L2[:4])\n",
    "print(L2[2:])\n",
    "print(L2[2:4])\n",
    "print(L2[:])"
   ]
  },
  {
   "cell_type": "code",
   "execution_count": 8,
   "id": "9b9a945e",
   "metadata": {},
   "outputs": [
    {
     "name": "stdout",
     "output_type": "stream",
     "text": [
      "['Open_Elective', 'T&T', 'DA', 'ML', 'CD', 'CC', '6th Semester Subjects']\n"
     ]
    }
   ],
   "source": [
    "L1.reverse()\n",
    "print(L1)"
   ]
  },
  {
   "cell_type": "code",
   "execution_count": null,
   "id": "ad85db42",
   "metadata": {},
   "outputs": [],
   "source": []
  },
  {
   "cell_type": "markdown",
   "id": "ab6eac47",
   "metadata": {},
   "source": [
    "# Experiment-8: Create a tuple to represent an immutable collection and try accessing elements and performing basic operations. "
   ]
  },
  {
   "cell_type": "code",
   "execution_count": 9,
   "id": "38be2d6e",
   "metadata": {},
   "outputs": [
    {
     "name": "stdout",
     "output_type": "stream",
     "text": [
      "1\n",
      "Sorup\n"
     ]
    }
   ],
   "source": [
    "m_t = (1,2,3,\"Sudip\",\"Sorup\", True)   #Immutable\n",
    "print(m_t[0])\n",
    "print(m_t[4])"
   ]
  },
  {
   "cell_type": "code",
   "execution_count": 10,
   "id": "5c3ac41c",
   "metadata": {},
   "outputs": [
    {
     "name": "stdout",
     "output_type": "stream",
     "text": [
      "(1, 2, 3, 'Sudip', 'Sorup', True, (4, 5))\n"
     ]
    }
   ],
   "source": [
    "m_t = (1,2,3,\"Sudip\",\"Sorup\", True,(4,5))\n",
    "print(m_t)"
   ]
  },
  {
   "cell_type": "code",
   "execution_count": 11,
   "id": "8499c586",
   "metadata": {},
   "outputs": [
    {
     "name": "stdout",
     "output_type": "stream",
     "text": [
      "8\n",
      "h\n"
     ]
    }
   ],
   "source": [
    "#Accessing Elements\n",
    "my_tuple1 = (8,6,2,'h','f')\n",
    "print(my_tuple1[0])\n",
    "print(my_tuple1[3])"
   ]
  },
  {
   "cell_type": "code",
   "execution_count": 12,
   "id": "e3cd13c7",
   "metadata": {},
   "outputs": [
    {
     "name": "stdout",
     "output_type": "stream",
     "text": [
      "(2, 3, 'Sudip')\n",
      "(1, 2, 3)\n",
      "(3, 'Sudip', 'Sorup', True, (4, 5))\n"
     ]
    }
   ],
   "source": [
    "#Slicing\n",
    "print(m_t[1:4])\n",
    "print(m_t[:3])\n",
    "print(m_t[2:])"
   ]
  },
  {
   "cell_type": "code",
   "execution_count": 13,
   "id": "0611a08c",
   "metadata": {},
   "outputs": [],
   "source": [
    "# Example of Immutabe\n",
    "# tuple1 = (1,2,3)\n",
    "# tuple[1]=10 "
   ]
  },
  {
   "cell_type": "markdown",
   "id": "66c2d030",
   "metadata": {},
   "source": [
    "# Experiment-9: Create a set to store unique elements and perform set operations such as union, intersection, and difference."
   ]
  },
  {
   "cell_type": "code",
   "execution_count": 14,
   "id": "7500aeba",
   "metadata": {},
   "outputs": [
    {
     "name": "stdout",
     "output_type": "stream",
     "text": [
      "{'b', 'C', 'h', 'i', 'S', 't', 'y', 'u', 'a', 'r', ' ', 'p', 'k', 'd'}\n"
     ]
    }
   ],
   "source": [
    "set1 = set(\"Sudip Chakrabarty\")\n",
    "print(set1)"
   ]
  },
  {
   "cell_type": "code",
   "execution_count": 15,
   "id": "6296dd93",
   "metadata": {},
   "outputs": [
    {
     "name": "stdout",
     "output_type": "stream",
     "text": [
      "{'a', 'u', 'i', 'o', 'e'}\n"
     ]
    }
   ],
   "source": [
    "vowels = {'a', 'e', 'i', 'o', 'u'}\n",
    "print(vowels)"
   ]
  },
  {
   "cell_type": "code",
   "execution_count": 16,
   "id": "4b8ec19d",
   "metadata": {},
   "outputs": [
    {
     "name": "stdout",
     "output_type": "stream",
     "text": [
      "{1, 2, 3, 4, 5, 6, 7, 8}\n"
     ]
    }
   ],
   "source": [
    "# Union Operation\n",
    "A1= {1, 2, 3, 4}\n",
    "A2= {1, 5, 3, 6}\n",
    "A3= {1, 3, 7, 8}\n",
    "print(A1.union(A2, A3))"
   ]
  },
  {
   "cell_type": "code",
   "execution_count": 17,
   "id": "6a3cad60",
   "metadata": {},
   "outputs": [
    {
     "name": "stdout",
     "output_type": "stream",
     "text": [
      "Intersection: {1, 3}\n"
     ]
    }
   ],
   "source": [
    "# Intersection operation\n",
    "intersection_result = A1.intersection(A2, A3)\n",
    "print(\"Intersection:\", intersection_result)"
   ]
  },
  {
   "cell_type": "code",
   "execution_count": 18,
   "id": "68f1aef4",
   "metadata": {},
   "outputs": [
    {
     "name": "stdout",
     "output_type": "stream",
     "text": [
      "Difference: {2, 4}\n"
     ]
    }
   ],
   "source": [
    "# Difference operation\n",
    "difference_result = A1.difference(A2, A3)\n",
    "print(\"Difference:\", difference_result)"
   ]
  },
  {
   "cell_type": "code",
   "execution_count": null,
   "id": "dc76679b",
   "metadata": {},
   "outputs": [],
   "source": []
  },
  {
   "cell_type": "markdown",
   "id": "61f6226d",
   "metadata": {},
   "source": [
    "# Experiment-10: Create a dictionary to represent key-value pairs and perform operations like adding, updating, and accessing values."
   ]
  },
  {
   "cell_type": "code",
   "execution_count": 19,
   "id": "8dbf4fc0",
   "metadata": {},
   "outputs": [
    {
     "name": "stdout",
     "output_type": "stream",
     "text": [
      "\n",
      "Printing student names:\n",
      "1:Sudip\n",
      "2:Sorup\n",
      "3:Pappu\n",
      "4:Muhit\n",
      "{1: 'Sudip', 2: 'Sorup', 3: 'Pappu', 4: 'Muhit'}\n"
     ]
    }
   ],
   "source": [
    "#Access the dictionary with keys\n",
    "dict1={1:\"Sudip\",2:\"Sorup\",3:\"Pappu\",4:\"Muhit\"}\n",
    "print(\"\\nPrinting student names:\")\n",
    "print(\"1:%s\"%dict1[1])\n",
    "print(\"2:%s\"%dict1[2])\n",
    "print(\"3:%s\"%dict1[3])\n",
    "print(\"4:%s\"%dict1[4])\n",
    "print(dict1)"
   ]
  },
  {
   "cell_type": "code",
   "execution_count": 20,
   "id": "d38c258d",
   "metadata": {},
   "outputs": [
    {
     "name": "stdout",
     "output_type": "stream",
     "text": [
      "Sorup\n",
      "Pappu\n"
     ]
    }
   ],
   "source": [
    "print(dict1.get(2))\n",
    "print(dict1.get(3))"
   ]
  },
  {
   "cell_type": "code",
   "execution_count": 21,
   "id": "38d876f3",
   "metadata": {},
   "outputs": [
    {
     "name": "stdout",
     "output_type": "stream",
     "text": [
      "{1: 'Sudip Chakrabarty', 2: 'Sorup', 3: 'Pappu', 4: 'Muhit'}\n"
     ]
    }
   ],
   "source": [
    "dict1.update({1 : 'Sudip Chakrabarty'})\n",
    "print(dict1)"
   ]
  },
  {
   "cell_type": "code",
   "execution_count": 22,
   "id": "2de1811a",
   "metadata": {},
   "outputs": [
    {
     "name": "stdout",
     "output_type": "stream",
     "text": [
      "{1: 'Sudip Chakrabarty', 2: 'Sorup', 3: 'Pappu', 4: 'Muhit', 5: 'Sapthak'}\n"
     ]
    }
   ],
   "source": [
    "dict1[5] = 'Sapthak'\n",
    "print(dict1)"
   ]
  },
  {
   "cell_type": "code",
   "execution_count": 23,
   "id": "07397704",
   "metadata": {},
   "outputs": [
    {
     "name": "stdout",
     "output_type": "stream",
     "text": [
      "{1: 'Sudip Chakrabarty', 2: 'Sorup', 3: 'Pappu', 4: 'Muhit'}\n"
     ]
    }
   ],
   "source": [
    "del dict1[5]\n",
    "print(dict1)"
   ]
  },
  {
   "cell_type": "code",
   "execution_count": 24,
   "id": "48e0ae2f",
   "metadata": {},
   "outputs": [],
   "source": [
    "# ---End---"
   ]
  }
 ],
 "metadata": {
  "kernelspec": {
   "display_name": "Python 3 (ipykernel)",
   "language": "python",
   "name": "python3"
  },
  "language_info": {
   "codemirror_mode": {
    "name": "ipython",
    "version": 3
   },
   "file_extension": ".py",
   "mimetype": "text/x-python",
   "name": "python",
   "nbconvert_exporter": "python",
   "pygments_lexer": "ipython3",
   "version": "3.11.5"
  }
 },
 "nbformat": 4,
 "nbformat_minor": 5
}
