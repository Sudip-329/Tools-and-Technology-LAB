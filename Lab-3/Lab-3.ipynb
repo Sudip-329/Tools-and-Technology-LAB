{
 "cells": [
  {
   "cell_type": "markdown",
   "id": "bf99dadb",
   "metadata": {},
   "source": [
    "# T & T LAB-03\n",
    "\n",
    "## Name : Sudip Chakrabarty\n",
    "## Roll    : 21053329\n",
    "## Section : CSE-34\n",
    "## Date : 10.02.24"
   ]
  },
  {
   "cell_type": "markdown",
   "id": "088d8a0b",
   "metadata": {},
   "source": [
    " ### Experiment-11: \n",
    " Create NumPy arrays with different methods (lists, zeros, ones, arange).\n",
    "\n",
    " Perform mathematical operations on NumPy arrays (addition, subtraction, multiplication,\n",
    " division).\n",
    "\n",
    " Practice indexing and slicing NumPy arrays.\n",
    "\n",
    " UseNumPyfunctions for basic statistical analysis like mean,median and mode.\n",
    "\n",
    " Experiment with reshaping and transposing NumPy arrays"
   ]
  },
  {
   "cell_type": "code",
   "execution_count": 1,
   "id": "009a09c5",
   "metadata": {},
   "outputs": [],
   "source": [
    "import numpy as np\n",
    "import pandas as pd"
   ]
  },
  {
   "cell_type": "code",
   "execution_count": 23,
   "id": "84be8417",
   "metadata": {},
   "outputs": [
    {
     "name": "stdout",
     "output_type": "stream",
     "text": [
      "[1, 2, 3, 4, 5]\n"
     ]
    }
   ],
   "source": [
    "#Using List\n",
    "list1 = [1,2,3,4,5]\n",
    "list_np = np.array(list1)\n",
    "print(list1)"
   ]
  },
  {
   "cell_type": "code",
   "execution_count": 24,
   "id": "2d8aa93e",
   "metadata": {},
   "outputs": [
    {
     "name": "stdout",
     "output_type": "stream",
     "text": [
      "[[0. 0. 0. 0. 0.]\n",
      " [0. 0. 0. 0. 0.]\n",
      " [0. 0. 0. 0. 0.]]\n"
     ]
    }
   ],
   "source": [
    "#Using Zeros\n",
    "zero = np.zeros((3,5))\n",
    "print(zero)"
   ]
  },
  {
   "cell_type": "code",
   "execution_count": 25,
   "id": "6c5c4cb4",
   "metadata": {},
   "outputs": [
    {
     "name": "stdout",
     "output_type": "stream",
     "text": [
      "[[1. 1. 1. 1.]\n",
      " [1. 1. 1. 1.]]\n"
     ]
    }
   ],
   "source": [
    "# Using ones\n",
    "ones_array = np.ones((2, 4))\n",
    "print(ones_array)"
   ]
  },
  {
   "cell_type": "code",
   "execution_count": 28,
   "id": "5c61cb33",
   "metadata": {},
   "outputs": [
    {
     "data": {
      "text/plain": [
       "array([ 0,  3,  6,  9, 12, 15, 18])"
      ]
     },
     "execution_count": 28,
     "metadata": {},
     "output_type": "execute_result"
    }
   ],
   "source": [
    "#Using Arrange\n",
    "arrange = np.arange(0,20,3)\n",
    "arrange"
   ]
  },
  {
   "cell_type": "code",
   "execution_count": 32,
   "id": "a05df801",
   "metadata": {},
   "outputs": [
    {
     "data": {
      "text/plain": [
       "array([[11, 11, 11, 11],\n",
       "       [11, 11, 11, 11]])"
      ]
     },
     "execution_count": 32,
     "metadata": {},
     "output_type": "execute_result"
    }
   ],
   "source": [
    "a1 = np.array([[1,2,3,4],\n",
    "             [7,8,9,10]])\n",
    "\n",
    "a2 = np.array([[10,9,8,7],\n",
    "             [4,3,2,1]])\n",
    "#Addition\n",
    "sum1 = a1+a2\n",
    "sum1"
   ]
  },
  {
   "cell_type": "code",
   "execution_count": 34,
   "id": "0286ba13",
   "metadata": {},
   "outputs": [
    {
     "data": {
      "text/plain": [
       "array([[-9, -7, -5, -3],\n",
       "       [ 3,  5,  7,  9]])"
      ]
     },
     "execution_count": 34,
     "metadata": {},
     "output_type": "execute_result"
    }
   ],
   "source": [
    "#Subtracation\n",
    "sub1 = a1-a2\n",
    "sub1"
   ]
  },
  {
   "cell_type": "code",
   "execution_count": 37,
   "id": "a22a5c26",
   "metadata": {},
   "outputs": [
    {
     "data": {
      "text/plain": [
       "array([[10, 18, 24, 28],\n",
       "       [28, 24, 18, 10]])"
      ]
     },
     "execution_count": 37,
     "metadata": {},
     "output_type": "execute_result"
    }
   ],
   "source": [
    "#Multiplication\n",
    "mul1 = a1*a2\n",
    "mul1"
   ]
  },
  {
   "cell_type": "code",
   "execution_count": 38,
   "id": "ea784c49",
   "metadata": {},
   "outputs": [
    {
     "data": {
      "text/plain": [
       "array([[ 0.1       ,  0.22222222,  0.375     ,  0.57142857],\n",
       "       [ 1.75      ,  2.66666667,  4.5       , 10.        ]])"
      ]
     },
     "execution_count": 38,
     "metadata": {},
     "output_type": "execute_result"
    }
   ],
   "source": [
    "#Division\n",
    "div1 = a1/a2\n",
    "div1"
   ]
  },
  {
   "cell_type": "code",
   "execution_count": 39,
   "id": "72c8cc53",
   "metadata": {},
   "outputs": [
    {
     "name": "stdout",
     "output_type": "stream",
     "text": [
      "Element at (0, 0): 1\n",
      "Element at (1, 2): 6\n",
      "\n",
      "First Row: [1 2 3]\n",
      "Second Column: [2 5 8]\n",
      "\n",
      "Subarray [0:2, 1:3]:\n",
      "[[2 3]\n",
      " [5 6]]\n",
      "\n",
      "Modified array:\n",
      "[[ 1  2  3]\n",
      " [ 4 10  6]\n",
      " [ 7  8  9]]\n"
     ]
    }
   ],
   "source": [
    "my_array = np.array([[1, 2, 3],\n",
    "                     [4, 5, 6],\n",
    "                     [7, 8, 9]])\n",
    "\n",
    "# Accessing\n",
    "print(\"Element at (0, 0):\", my_array[0, 0])\n",
    "print(\"Element at (1, 2):\", my_array[1, 2])\n",
    "\n",
    "# Slicing rows and columns\n",
    "print(\"\\nFirst Row:\", my_array[0])\n",
    "print(\"Second Column:\", my_array[:, 1])\n",
    "\n",
    "# Slicing subarrays\n",
    "print(\"\\nSubarray [0:2, 1:3]:\")\n",
    "print(my_array[0:2, 1:3])  # Rows 0 to 1, Columns 1 to 2\n",
    "\n",
    "# Modifying elements using indexing\n",
    "my_array[1, 1] = 10\n",
    "print(\"\\nModified array:\")\n",
    "print(my_array)\n"
   ]
  },
  {
   "cell_type": "code",
   "execution_count": 42,
   "id": "df2afa55",
   "metadata": {},
   "outputs": [
    {
     "name": "stdout",
     "output_type": "stream",
     "text": [
      "Mean: 4.583333333333333\n",
      "Median: 4.0\n",
      "ModeResult(mode=4, count=3)\n"
     ]
    }
   ],
   "source": [
    "sample_array = np.array([1, 2, 2, 3, 4, 4, 4, 5, 6, 7, 8, 9])\n",
    "\n",
    "# Mean\n",
    "mean_value = np.mean(sample_array)\n",
    "print(\"Mean:\", mean_value)\n",
    "\n",
    "# Median\n",
    "median_value = np.median(sample_array)\n",
    "print(\"Median:\", median_value)\n",
    "\n",
    "\n",
    "from scipy import stats as st\n",
    " \n",
    "# applying mode operation on array and \n",
    "# printing result\n",
    "print(st.mode(sample_array))"
   ]
  },
  {
   "cell_type": "code",
   "execution_count": 45,
   "id": "231d5543",
   "metadata": {},
   "outputs": [
    {
     "name": "stdout",
     "output_type": "stream",
     "text": [
      "\n",
      "Reshaped Array:\n",
      "[[1 2]\n",
      " [3 4]\n",
      " [5 6]]\n",
      "\n",
      "Transposed Array:\n",
      "[[1 4]\n",
      " [2 5]\n",
      " [3 6]]\n"
     ]
    }
   ],
   "source": [
    "# Experimenting with reshaping and transposing\n",
    "original_array = np.array([[1, 2, 3],\n",
    "                           [4, 5, 6]])\n",
    "\n",
    "# Reshaping\n",
    "reshaped_array = original_array.reshape(3, 2)\n",
    "print(\"\\nReshaped Array:\")\n",
    "print(reshaped_array)\n",
    "\n",
    "# Transposing\n",
    "transposed_array = original_array.T\n",
    "print(\"\\nTransposed Array:\")\n",
    "print(transposed_array)\n"
   ]
  },
  {
   "cell_type": "code",
   "execution_count": null,
   "id": "1ed70914",
   "metadata": {},
   "outputs": [],
   "source": [
    "\n"
   ]
  },
  {
   "cell_type": "markdown",
   "id": "84ed9596",
   "metadata": {},
   "source": [
    "### Experiment-12:\n",
    "Matrix Operations\n",
    "\n",
    "Perform various matrix operations using NumPy, such as matrix multiplication, inversion, and decomposition.\n",
    "\n",
    "Create two random matrices using NumPy.\n",
    "Perform matrix multiplication using NumPy's numpy.dot() function.\n",
    "Create a random square matrix.\n",
    "Invert the matrix using NumPy's numpy.linalg.inv() function.\n",
    "Verify the inversion by multiplying the original matrix with its inverse.\n",
    "Create a random square matrix.\n",
    "Perform LU decomposition using NumPy's numpy.linalg.lu() function.\n",
    "Reconstruct the original matrix from the LU factors."
   ]
  },
  {
   "cell_type": "code",
   "execution_count": 64,
   "id": "340c6f3f",
   "metadata": {},
   "outputs": [
    {
     "name": "stdout",
     "output_type": "stream",
     "text": [
      "Matrix 1:\n",
      "[[5 0 2]\n",
      " [5 2 5]\n",
      " [1 7 1]]\n",
      "\n",
      "Matrix 2:\n",
      "[[7 2 9]\n",
      " [1 9 0]\n",
      " [4 7 1]]\n",
      "\n",
      "Matrix Multiplication:\n",
      "[[43 24 47]\n",
      " [57 63 50]\n",
      " [18 72 10]]\n",
      "\n",
      "Square Matrix:\n",
      "[[9 8 2]\n",
      " [8 7 9]\n",
      " [7 8 2]]\n",
      "\n",
      "Inverted Matrix:\n",
      "[[ 0.5         0.         -0.5       ]\n",
      " [-0.40517241 -0.03448276  0.56034483]\n",
      " [-0.12931034  0.13793103  0.00862069]]\n",
      "\n",
      "Identity Matrix :\n",
      "[[ 1.00000000e+00  0.00000000e+00 -4.37150316e-16]\n",
      " [ 1.11022302e-16  1.00000000e+00 -4.12864187e-16]\n",
      " [ 2.22044605e-16  0.00000000e+00  1.00000000e+00]]\n"
     ]
    }
   ],
   "source": [
    "import numpy as np\n",
    "\n",
    "# Create two random matrices\n",
    "matrix1 = (np.random.rand(3, 3) * 10).astype(int)\n",
    "matrix2 = (np.random.rand(3, 3) * 10).astype(int)\n",
    "print(\"Matrix 1:\")\n",
    "print(matrix1)\n",
    "print(\"\\nMatrix 2:\")\n",
    "print(matrix2)\n",
    "\n",
    "# Matrix multiplication\n",
    "matrix_mul = np.dot(matrix1, matrix2)\n",
    "print(\"\\nMatrix Multiplication:\")\n",
    "print(matrix_mul)\n",
    "\n",
    "# Create a random square matrix\n",
    "square_matrix = (np.random.rand(3, 3) * 10).astype(int)\n",
    "print(\"\\nSquare Matrix:\")\n",
    "print(square_matrix)\n",
    "\n",
    "# Invert the matrix\n",
    "inverse_matrix = np.linalg.inv(square_matrix)\n",
    "print(\"\\nInverted Matrix:\")\n",
    "print(inverse_matrix)\n",
    "\n",
    "# Verify the inversion\n",
    "identity_matrix = np.dot(square_matrix, inverse_matrix)\n",
    "print(\"\\nIdentity Matrix :\")\n",
    "print(identity_matrix)\n"
   ]
  },
  {
   "cell_type": "code",
   "execution_count": 73,
   "id": "a0859656",
   "metadata": {},
   "outputs": [
    {
     "name": "stdout",
     "output_type": "stream",
     "text": [
      "Original Matrix:\n",
      "[[5 2 4]\n",
      " [0 2 2]\n",
      " [2 7 6]]\n",
      "\n",
      "Reconstructed Matrix from LU factors:\n",
      "[[1.         0.         0.        ]\n",
      " [0.         0.32258065 1.        ]\n",
      " [0.4        1.         0.        ]]\n"
     ]
    }
   ],
   "source": [
    "from scipy.linalg import lu\n",
    "\n",
    "size = 3\n",
    "random_matrix = (np.random.rand(size,size)*10).astype(int)\n",
    "print(\"Original Matrix:\")\n",
    "print(random_matrix)\n",
    "\n",
    "lu_factorization = lu(random_matrix)\n",
    "pivoted_lu = lu_factorization[0]\n",
    "\n",
    "# Reconstruct\n",
    "reconstructed_matrix = np.dot(lu_factorization[0], lu_factorization[1])\n",
    "print(\"\\nReconstructed Matrix from LU factors:\")\n",
    "print(reconstructed_matrix)"
   ]
  },
  {
   "cell_type": "markdown",
   "id": "a7406a96",
   "metadata": {},
   "source": [
    "### END"
   ]
  }
 ],
 "metadata": {
  "kernelspec": {
   "display_name": "Python 3 (ipykernel)",
   "language": "python",
   "name": "python3"
  },
  "language_info": {
   "codemirror_mode": {
    "name": "ipython",
    "version": 3
   },
   "file_extension": ".py",
   "mimetype": "text/x-python",
   "name": "python",
   "nbconvert_exporter": "python",
   "pygments_lexer": "ipython3",
   "version": "3.11.5"
  }
 },
 "nbformat": 4,
 "nbformat_minor": 5
}
