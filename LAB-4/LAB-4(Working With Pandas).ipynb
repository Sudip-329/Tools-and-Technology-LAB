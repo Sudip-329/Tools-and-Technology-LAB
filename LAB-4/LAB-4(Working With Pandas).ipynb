{
 "cells": [
  {
   "cell_type": "markdown",
   "id": "1621df02",
   "metadata": {},
   "source": [
    "# T & T LAB (04)\n",
    "## Name : Sudip Chakrabarty\n",
    "## Roll : 21053329\n",
    "## Sec : CSE-34\n",
    "## Date : 09.03.24"
   ]
  },
  {
   "cell_type": "code",
   "execution_count": 1,
   "id": "59b14113",
   "metadata": {},
   "outputs": [],
   "source": [
    "import numpy as np\n",
    "import pandas as pd"
   ]
  },
  {
   "cell_type": "code",
   "execution_count": 2,
   "id": "9cb45c47",
   "metadata": {},
   "outputs": [
    {
     "data": {
      "text/plain": [
       "<bound method NDFrame.head of      sepal.length  sepal.width  petal.length  petal.width    variety\n",
       "0             5.1          3.5           1.4          0.2     Setosa\n",
       "1             4.9          3.0           1.4          0.2     Setosa\n",
       "2             4.7          3.2           1.3          0.2     Setosa\n",
       "3             4.6          3.1           1.5          0.2     Setosa\n",
       "4             5.0          3.6           1.4          0.2     Setosa\n",
       "..            ...          ...           ...          ...        ...\n",
       "145           6.7          3.0           5.2          2.3  Virginica\n",
       "146           6.3          2.5           5.0          1.9  Virginica\n",
       "147           6.5          3.0           5.2          2.0  Virginica\n",
       "148           6.2          3.4           5.4          2.3  Virginica\n",
       "149           5.9          3.0           5.1          1.8  Virginica\n",
       "\n",
       "[150 rows x 5 columns]>"
      ]
     },
     "execution_count": 2,
     "metadata": {},
     "output_type": "execute_result"
    }
   ],
   "source": [
    "df = pd.read_csv('iris.csv')\n",
    "df.head"
   ]
  },
  {
   "cell_type": "markdown",
   "id": "2ced84b7",
   "metadata": {},
   "source": [
    "# What is the sepal length of the first flower in the dataset?"
   ]
  },
  {
   "cell_type": "code",
   "execution_count": 3,
   "id": "97f1d110",
   "metadata": {},
   "outputs": [
    {
     "name": "stdout",
     "output_type": "stream",
     "text": [
      "Sepal length of the first flower: 5.1\n"
     ]
    }
   ],
   "source": [
    "sepal_length_first_flower = df.loc[0, 'sepal.length']\n",
    "print(\"Sepal length of the first flower:\", sepal_length_first_flower)"
   ]
  },
  {
   "cell_type": "markdown",
   "id": "08b714e2",
   "metadata": {},
   "source": [
    "# What is the species of the flower with the longest petal length?"
   ]
  },
  {
   "cell_type": "code",
   "execution_count": 4,
   "id": "5a0ffd02",
   "metadata": {},
   "outputs": [
    {
     "name": "stdout",
     "output_type": "stream",
     "text": [
      "Species with the longest petal length: Virginica\n"
     ]
    }
   ],
   "source": [
    "species_longest_petal = df.loc[df['petal.length'].idxmax()]['variety']\n",
    "print(\"Species with the longest petal length:\", species_longest_petal)"
   ]
  },
  {
   "cell_type": "markdown",
   "id": "be89b82a",
   "metadata": {},
   "source": [
    "# How many flowers in the dataset have a sepal width greater than 3.5?"
   ]
  },
  {
   "cell_type": "code",
   "execution_count": 5,
   "id": "e3d859c5",
   "metadata": {},
   "outputs": [
    {
     "name": "stdout",
     "output_type": "stream",
     "text": [
      "Number of flowers with sepal width greater than 3.5: 19\n"
     ]
    }
   ],
   "source": [
    "flowers_greater_than_3_5 = df[df['sepal.width'] > 3.5]\n",
    "num_flowers_greater_than_3_5 = len(flowers_greater_than_3_5)\n",
    "print(\"Number of flowers with sepal width greater than 3.5:\", num_flowers_greater_than_3_5)"
   ]
  },
  {
   "cell_type": "markdown",
   "id": "d521e944",
   "metadata": {},
   "source": [
    "# What is the mean petal width of the flowers classified as 'versicolor'?"
   ]
  },
  {
   "cell_type": "code",
   "execution_count": 6,
   "id": "3452bab2",
   "metadata": {},
   "outputs": [
    {
     "name": "stdout",
     "output_type": "stream",
     "text": [
      "Mean petal width of 'versicolor' flowers: 1.3259999999999998\n"
     ]
    }
   ],
   "source": [
    "versicolor_df = df[df['variety'] == 'Versicolor']\n",
    "mean_petal_width_versicolor = versicolor_df['petal.width'].mean()\n",
    "print(\"Mean petal width of 'versicolor' flowers:\", mean_petal_width_versicolor)"
   ]
  },
  {
   "cell_type": "markdown",
   "id": "1cdfea81",
   "metadata": {},
   "source": [
    "# Which flower has the smallest sepal area (sepal_length * sepal_width)?"
   ]
  },
  {
   "cell_type": "code",
   "execution_count": 7,
   "id": "f2ff73a1",
   "metadata": {},
   "outputs": [
    {
     "name": "stdout",
     "output_type": "stream",
     "text": [
      "Flower with the smallest sepal area:\n",
      "sepal.length           5.0\n",
      "sepal.width            2.0\n",
      "petal.length           3.5\n",
      "petal.width            1.0\n",
      "variety         Versicolor\n",
      "sepal.area            10.0\n",
      "Name: 60, dtype: object\n"
     ]
    }
   ],
   "source": [
    "df['sepal.area'] = df['sepal.length'] * df['sepal.width']\n",
    "flower_smallest_sepal_area = df.loc[df['sepal.area'].idxmin()]\n",
    "print(\"Flower with the smallest sepal area:\")\n",
    "print(flower_smallest_sepal_area)"
   ]
  },
  {
   "cell_type": "markdown",
   "id": "799c8069",
   "metadata": {},
   "source": [
    "# How many flowers belong to the 'virginica' species?"
   ]
  },
  {
   "cell_type": "code",
   "execution_count": 8,
   "id": "9518eaab",
   "metadata": {},
   "outputs": [
    {
     "name": "stdout",
     "output_type": "stream",
     "text": [
      "Number of flowers belonging to the 'Virginica' species: 50\n"
     ]
    }
   ],
   "source": [
    "num_virginica_flowers = df[df['variety'] == 'Virginica'].shape[0]\n",
    "print(\"Number of flowers belonging to the 'Virginica' species:\", num_virginica_flowers)"
   ]
  },
  {
   "cell_type": "code",
   "execution_count": null,
   "id": "f510c97c",
   "metadata": {},
   "outputs": [],
   "source": []
  }
 ],
 "metadata": {
  "kernelspec": {
   "display_name": "Python 3 (ipykernel)",
   "language": "python",
   "name": "python3"
  },
  "language_info": {
   "codemirror_mode": {
    "name": "ipython",
    "version": 3
   },
   "file_extension": ".py",
   "mimetype": "text/x-python",
   "name": "python",
   "nbconvert_exporter": "python",
   "pygments_lexer": "ipython3",
   "version": "3.11.5"
  }
 },
 "nbformat": 4,
 "nbformat_minor": 5
}
